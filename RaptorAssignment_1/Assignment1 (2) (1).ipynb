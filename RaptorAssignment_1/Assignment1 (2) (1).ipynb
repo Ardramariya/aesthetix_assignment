{
  "nbformat": 4,
  "nbformat_minor": 0,
  "metadata": {
    "colab": {
      "provenance": []
    },
    "kernelspec": {
      "name": "python3",
      "display_name": "Python 3"
    },
    "language_info": {
      "name": "python"
    }
  },
  "cells": [
    {
      "cell_type": "markdown",
      "source": [
        "Two Number interchanging"
      ],
      "metadata": {
        "id": "ykfWtvZoXkdI"
      }
    },
    {
      "cell_type": "code",
      "execution_count": null,
      "metadata": {
        "colab": {
          "base_uri": "https://localhost:8080/"
        },
        "id": "wUNz2kfKi_HT",
        "outputId": "8d15045a-f680-4605-bda1-8169b4098de5"
      },
      "outputs": [
        {
          "output_type": "stream",
          "name": "stdout",
          "text": [
            "ENTER 1ST NUMBER23\n",
            "ENTER 2ND NUMBER43\n",
            "43\n",
            "23\n"
          ]
        }
      ],
      "source": [
        "num1=int(input(\"ENTER 1ST NUMBER\"))\n",
        "num2=int(input(\"ENTER 2ND NUMBER\"))\n",
        "c=num1\n",
        "num1=num2\n",
        "num2=c\n",
        "print(num1)\n",
        "print(num2)"
      ]
    },
    {
      "cell_type": "markdown",
      "source": [
        "Largest number"
      ],
      "metadata": {
        "id": "0u_Yt2hxXu7_"
      }
    },
    {
      "cell_type": "code",
      "source": [
        "a=int(input(\"ENTER 1ST NUMBER\"))\n",
        "b=int(input(\"ENTER 2ND NUMBER\"))\n",
        "c=int(input(\"ENTER 3RD NUMBER\"))\n",
        "\n",
        "if a>b and a>c:\n",
        "  print(\"Grater number is \",a)\n",
        "elif a<b and b>c:\n",
        "  print(\"Grater number is \",b)\n",
        "else:\n",
        "  print(\"Grater number is \",c)"
      ],
      "metadata": {
        "colab": {
          "base_uri": "https://localhost:8080/"
        },
        "id": "l178AEdjkG_o",
        "outputId": "f3a4cbee-2839-4a25-d1e0-0bb06c464e65"
      },
      "execution_count": null,
      "outputs": [
        {
          "output_type": "stream",
          "name": "stdout",
          "text": [
            "ENTER 1ST NUMBER40\n",
            "ENTER 2ND NUMBER5000\n",
            "ENTER 3RD NUMBER46\n",
            "Grater number is  5000\n"
          ]
        }
      ]
    },
    {
      "cell_type": "markdown",
      "source": [
        "Smallest number"
      ],
      "metadata": {
        "id": "eyLJIiTJX0Il"
      }
    },
    {
      "cell_type": "code",
      "source": [
        "a=int(input(\"ENTER 1ST NUMBER\"))\n",
        "b=int(input(\"ENTER 2ND NUMBER\"))\n",
        "c=int(input(\"ENTER 3RD NUMBER\"))\n",
        "\n",
        "if a<b and a<c:\n",
        "  print(\"SMALLER number is \",a)\n",
        "elif a>b and b<c:\n",
        "  print(\"SMALLER number is \",b)\n",
        "else:\n",
        "  print(\"SMALLER number is \",c)"
      ],
      "metadata": {
        "colab": {
          "base_uri": "https://localhost:8080/"
        },
        "id": "q7w54XCZrUbG",
        "outputId": "22ef90cc-ad0a-4c2c-c245-df669d1f0ffa"
      },
      "execution_count": null,
      "outputs": [
        {
          "output_type": "stream",
          "name": "stdout",
          "text": [
            "ENTER 1ST NUMBER100\n",
            "ENTER 2ND NUMBER245\n",
            "ENTER 3RD NUMBER64\n",
            "SMALLER number is  64\n"
          ]
        }
      ]
    },
    {
      "cell_type": "markdown",
      "source": [
        "Largest digit of a number"
      ],
      "metadata": {
        "id": "fIPdj8GjX7GD"
      }
    },
    {
      "cell_type": "code",
      "source": [
        "num=int(input(\"ENTER THE DIGIT \"))\n",
        "a=num%10\n",
        "b=int(num/10)\n",
        "if a>b:\n",
        "  print(\"LARGERST DIGIT IS \",a)\n",
        "else:\n",
        "  print(\"LARGERST DIGIT IS \",b)"
      ],
      "metadata": {
        "id": "wW1UpbZMol6u",
        "colab": {
          "base_uri": "https://localhost:8080/"
        },
        "outputId": "e26149b4-4ad7-4fe1-b831-b0a8f15992ba"
      },
      "execution_count": null,
      "outputs": [
        {
          "output_type": "stream",
          "name": "stdout",
          "text": [
            "ENTER THE DIGIT 37\n",
            "LARGERST DIGIT IS  7\n"
          ]
        }
      ]
    },
    {
      "cell_type": "markdown",
      "source": [
        "Armstorg Number"
      ],
      "metadata": {
        "id": "QDEXvy6wg3Dw"
      }
    },
    {
      "cell_type": "code",
      "source": [
        "number = int(input(\"Enter a number: \"))\n",
        "a= str(number)\n",
        "b = len(a)\n",
        "sum_of_digits = 0\n",
        "for digit in a:\n",
        "    digit_int = int(digit)\n",
        "    sum_of_digits += digit_int ** b\n",
        "if number == sum_of_digits:\n",
        "    print(number, \"is an Armstrong number.\")\n",
        "else:\n",
        "    print(number, \"is not an Armstrong number.\")"
      ],
      "metadata": {
        "colab": {
          "base_uri": "https://localhost:8080/"
        },
        "id": "On7X2qrTg0rp",
        "outputId": "f5e39bf9-5229-4db5-c09b-28eea2530068"
      },
      "execution_count": null,
      "outputs": [
        {
          "output_type": "stream",
          "name": "stdout",
          "text": [
            "Enter a number: 371\n",
            "371 is an Armstrong number.\n"
          ]
        }
      ]
    },
    {
      "cell_type": "markdown",
      "source": [
        "Reverse of a number"
      ],
      "metadata": {
        "id": "vOBIt5yZYCCp"
      }
    },
    {
      "cell_type": "code",
      "source": [
        "def reverse_number(number):\n",
        "    reversed_number = 0\n",
        "    while number > 0:\n",
        "        last_digit = number % 10\n",
        "        reversed_number = reversed_number * 10 + last_digit\n",
        "        number = number // 10\n",
        "    return reversed_number\n",
        "number = int(input(\"Enter a number: \"))\n",
        "reversed = reverse_number(number)\n",
        "print(\"Reversed number:\", reversed)"
      ],
      "metadata": {
        "colab": {
          "base_uri": "https://localhost:8080/"
        },
        "id": "W9AMSJmoYXh5",
        "outputId": "2e990634-fd17-488e-b4d0-65c5eb890114"
      },
      "execution_count": null,
      "outputs": [
        {
          "output_type": "stream",
          "name": "stdout",
          "text": [
            "Enter a number: 35\n",
            "Reversed number: 53\n"
          ]
        }
      ]
    },
    {
      "cell_type": "markdown",
      "source": [
        "Sum of squares"
      ],
      "metadata": {
        "id": "ytn2OrteYGM4"
      }
    },
    {
      "cell_type": "code",
      "source": [
        "def sum_of_squares(a, b):\n",
        "    total = 0\n",
        "    for num in range(a, b + 1):\n",
        "        total += num ** 2\n",
        "    return total\n",
        "a = int(input(\"Enter the start number: \"))\n",
        "b = int(input(\"Enter the end number:\"))\n",
        "result = sum_of_squares(a, b)\n",
        "print(f\"The sum of squares between {a} and {b} is: {result}\")\n"
      ],
      "metadata": {
        "colab": {
          "base_uri": "https://localhost:8080/"
        },
        "id": "mnuo2Vuzjrwm",
        "outputId": "a6737f00-b159-42cc-9ac0-32ab8b7fb57e"
      },
      "execution_count": null,
      "outputs": [
        {
          "output_type": "stream",
          "name": "stdout",
          "text": [
            "Enter the start number: 5\n",
            "Enter the end number:10\n",
            "The sum of squares between 5 and 10 is: 355\n"
          ]
        }
      ]
    },
    {
      "cell_type": "markdown",
      "source": [
        "Fibonacci series"
      ],
      "metadata": {
        "id": "WH4hUL9qmlH5"
      }
    },
    {
      "cell_type": "code",
      "source": [
        "def generate_fibonacci_series(n):\n",
        "    fibonacci_series = []\n",
        "    a, b = 0, 1\n",
        "    for _ in range(n):\n",
        "        fibonacci_series.append(a)\n",
        "        a, b = b, a + b\n",
        "    return fibonacci_series\n",
        "n = int(input(\"Enter the number of terms for the Fibonacci series: \"))\n",
        "if n <= 0:\n",
        "    print(\"Please enter a positive integer.\")\n",
        "else:\n",
        "    result = generate_fibonacci_series(n)\n",
        "    print(\"Fibonacci series:\")\n",
        "    print(result)"
      ],
      "metadata": {
        "colab": {
          "base_uri": "https://localhost:8080/"
        },
        "id": "jGI5hrHVmpVh",
        "outputId": "3d80794d-f694-499b-b883-a40c9d093977"
      },
      "execution_count": null,
      "outputs": [
        {
          "output_type": "stream",
          "name": "stdout",
          "text": [
            "Enter the number of terms for the Fibonacci series: 5\n",
            "Fibonacci series:\n",
            "[0, 1, 1, 2, 3]\n"
          ]
        }
      ]
    }
  ]
}